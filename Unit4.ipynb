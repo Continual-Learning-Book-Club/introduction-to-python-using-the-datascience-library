{
 "metadata": {
  "language_info": {
   "codemirror_mode": {
    "name": "ipython",
    "version": 3
   },
   "file_extension": ".py",
   "mimetype": "text/x-python",
   "name": "python",
   "nbconvert_exporter": "python",
   "pygments_lexer": "ipython3",
   "version": "3.8.2-final"
  },
  "orig_nbformat": 2,
  "kernelspec": {
   "name": "python38264bit7cde23a126bb4267837e6489d4fe2d73",
   "display_name": "Python 3.8.2 64-bit"
  }
 },
 "nbformat": 4,
 "nbformat_minor": 2,
 "cells": [
  {
   "cell_type": "markdown",
   "metadata": {},
   "source": [
    "# Unit 4"
   ]
  },
  {
   "cell_type": "code",
   "execution_count": 2,
   "metadata": {},
   "outputs": [
    {
     "output_type": "execute_result",
     "data": {
      "text/plain": "30"
     },
     "metadata": {},
     "execution_count": 2
    }
   ],
   "source": [
    "a = 10\n",
    "b = 20\n",
    "a + b"
   ]
  },
  {
   "cell_type": "code",
   "execution_count": 3,
   "metadata": {},
   "outputs": [
    {
     "output_type": "execute_result",
     "data": {
      "text/plain": "0.5"
     },
     "metadata": {},
     "execution_count": 3
    }
   ],
   "source": [
    "quarter = 1/4\n",
    "half = 2 * quarter\n",
    "half"
   ]
  },
  {
   "cell_type": "code",
   "execution_count": 4,
   "metadata": {},
   "outputs": [
    {
     "output_type": "execute_result",
     "data": {
      "text/plain": "0.5"
     },
     "metadata": {},
     "execution_count": 4
    }
   ],
   "source": [
    "quarter = 4\n",
    "half"
   ]
  },
  {
   "cell_type": "code",
   "execution_count": 5,
   "metadata": {},
   "outputs": [
    {
     "output_type": "execute_result",
     "data": {
      "text/plain": "0.475"
     },
     "metadata": {},
     "execution_count": 5
    }
   ],
   "source": [
    "purchase_price = 5\n",
    "state_tax_rate = 0.075\n",
    "county_tax_rate = 0.02\n",
    "city_tax_rate = 0\n",
    "sales_tax_rate = state_tax_rate + county_tax_rate + city_tax_rate\n",
    "sales_tax = purchase_price * sales_tax_rate\n",
    "sales_tax"
   ]
  }
 ]
}