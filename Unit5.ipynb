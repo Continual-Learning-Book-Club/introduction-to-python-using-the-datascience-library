{
 "metadata": {
  "language_info": {
   "codemirror_mode": {
    "name": "ipython",
    "version": 3
   },
   "file_extension": ".py",
   "mimetype": "text/x-python",
   "name": "python",
   "nbconvert_exporter": "python",
   "pygments_lexer": "ipython3",
   "version": "3.8.2-final"
  },
  "orig_nbformat": 2,
  "kernelspec": {
   "name": "python38264bit7cde23a126bb4267837e6489d4fe2d73",
   "display_name": "Python 3.8.2 64-bit"
  }
 },
 "nbformat": 4,
 "nbformat_minor": 2,
 "cells": [
  {
   "cell_type": "markdown",
   "metadata": {},
   "source": [
    "# Unit 5"
   ]
  },
  {
   "cell_type": "code",
   "execution_count": 1,
   "metadata": {},
   "outputs": [
    {
     "output_type": "execute_result",
     "data": {
      "text/plain": "0.01735357917570499"
     },
     "metadata": {},
     "execution_count": 1
    }
   ],
   "source": [
    "initial = 2766000\n",
    "changed = 2814000\n",
    "(changed - initial) / initial"
   ]
  },
  {
   "cell_type": "code",
   "execution_count": 2,
   "metadata": {},
   "outputs": [
    {
     "output_type": "execute_result",
     "data": {
      "text/plain": "0.017353579175704903"
     },
     "metadata": {},
     "execution_count": 2
    }
   ],
   "source": [
    "(changed/initial) - 1"
   ]
  },
  {
   "cell_type": "code",
   "execution_count": 3,
   "metadata": {},
   "outputs": [
    {
     "output_type": "execute_result",
     "data": {
      "text/plain": "0.017353579175704903"
     },
     "metadata": {},
     "execution_count": 3
    }
   ],
   "source": [
    "initial = 2766\n",
    "changed = 2814\n",
    "(changed/initial) - 1"
   ]
  },
  {
   "cell_type": "code",
   "execution_count": 4,
   "metadata": {},
   "outputs": [
    {
     "output_type": "execute_result",
     "data": {
      "text/plain": "0.4261603375527425"
     },
     "metadata": {},
     "execution_count": 4
    }
   ],
   "source": [
    "initial = 2.37\n",
    "changed = 3.38\n",
    "(changed/initial) - 1"
   ]
  },
  {
   "cell_type": "code",
   "execution_count": 5,
   "metadata": {},
   "outputs": [
    {
     "output_type": "execute_result",
     "data": {
      "text/plain": "0.09214186369958277"
     },
     "metadata": {},
     "execution_count": 5
    }
   ],
   "source": [
    "initial = 287.6\n",
    "changed = 314.1\n",
    "(changed/initial) - 1   "
   ]
  },
  {
   "cell_type": "code",
   "execution_count": 6,
   "metadata": {},
   "outputs": [
    {
     "output_type": "execute_result",
     "data": {
      "text/plain": "0.410598760621121"
     },
     "metadata": {},
     "execution_count": 6
    }
   ],
   "source": [
    "1.035 * 1.035 * 1.035 * 1.035 * 1.035 * 1.035 * 1.035 * 1.035 * 1.035 * 1.035 - 1  "
   ]
  },
  {
   "cell_type": "code",
   "execution_count": 7,
   "metadata": {},
   "outputs": [
    {
     "output_type": "execute_result",
     "data": {
      "text/plain": "0.410598760621121"
     },
     "metadata": {},
     "execution_count": 7
    }
   ],
   "source": [
    "annual_growth_rate = 0.035\n",
    "ten_year_growth_rate = (1 + annual_growth_rate) ** 10 - 1\n",
    "ten_year_growth_rate"
   ]
  },
  {
   "cell_type": "code",
   "execution_count": 8,
   "metadata": {},
   "outputs": [
    {
     "output_type": "execute_result",
     "data": {
      "text/plain": "0.03613617208346853"
     },
     "metadata": {},
     "execution_count": 8
    }
   ],
   "source": [
    "initial = 2.37\n",
    "changed = 3.38\n",
    "t = 10\n",
    "(changed/initial) ** (1/t) - 1"
   ]
  }
 ]
}