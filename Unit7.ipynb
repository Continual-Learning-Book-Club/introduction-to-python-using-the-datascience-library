{
 "metadata": {
  "language_info": {
   "codemirror_mode": {
    "name": "ipython",
    "version": 3
   },
   "file_extension": ".py",
   "mimetype": "text/x-python",
   "name": "python",
   "nbconvert_exporter": "python",
   "pygments_lexer": "ipython3",
   "version": "3.8.2-final"
  },
  "orig_nbformat": 2,
  "kernelspec": {
   "name": "python38264bit7cde23a126bb4267837e6489d4fe2d73",
   "display_name": "Python 3.8.2 64-bit"
  }
 },
 "nbformat": 4,
 "nbformat_minor": 2,
 "cells": [
  {
   "cell_type": "markdown",
   "metadata": {},
   "source": [
    "# Unit 7"
   ]
  },
  {
   "cell_type": "code",
   "execution_count": 156,
   "metadata": {},
   "outputs": [],
   "source": [
    "from datascience import *\n",
    "import os \n",
    "\n",
    "path_data = os.getcwd()\n",
    "nba_data = path_data + \"\\\\data\\\\nba_salaries.csv\"\n",
    "nba = Table.read_table(nba_data)\n",
    "\n",
    "cone_data = path_data + \"\\\\data\\\\cones.csv\"\n",
    "cones = Table.read_table(cone_data)\n"
   ]
  },
  {
   "cell_type": "code",
   "execution_count": 157,
   "metadata": {},
   "outputs": [
    {
     "output_type": "execute_result",
     "data": {
      "text/plain": "Flavor     | Color       | Price\nstrawberry | pink        | 3.55\nchocolate  | light brown | 4.75\nchocolate  | dark brown  | 5.25\nstrawberry | pink        | 5.25\nchocolate  | dark brown  | 5.25\nbubblegum  | pink        | 4.75",
      "text/html": "<table border=\"1\" class=\"dataframe\">\n    <thead>\n        <tr>\n            <th>Flavor</th> <th>Color</th> <th>Price</th>\n        </tr>\n    </thead>\n    <tbody>\n        <tr>\n            <td>strawberry</td> <td>pink       </td> <td>3.55 </td>\n        </tr>\n        <tr>\n            <td>chocolate </td> <td>light brown</td> <td>4.75 </td>\n        </tr>\n        <tr>\n            <td>chocolate </td> <td>dark brown </td> <td>5.25 </td>\n        </tr>\n        <tr>\n            <td>strawberry</td> <td>pink       </td> <td>5.25 </td>\n        </tr>\n        <tr>\n            <td>chocolate </td> <td>dark brown </td> <td>5.25 </td>\n        </tr>\n        <tr>\n            <td>bubblegum </td> <td>pink       </td> <td>4.75 </td>\n        </tr>\n    </tbody>\n</table>"
     },
     "metadata": {},
     "execution_count": 157
    }
   ],
   "source": [
    "cones"
   ]
  },
  {
   "cell_type": "code",
   "execution_count": 158,
   "metadata": {},
   "outputs": [
    {
     "output_type": "display_data",
     "data": {
      "text/plain": "<IPython.core.display.HTML object>",
      "text/html": "<table border=\"1\" class=\"dataframe\">\n    <thead>\n        <tr>\n            <th>Flavor</th> <th>Color</th> <th>Price</th>\n        </tr>\n    </thead>\n    <tbody>\n        <tr>\n            <td>strawberry</td> <td>pink       </td> <td>3.55 </td>\n        </tr>\n        <tr>\n            <td>chocolate </td> <td>light brown</td> <td>4.75 </td>\n        </tr>\n    </tbody>\n</table>\n<p>... (4 rows omitted)</p>"
     },
     "metadata": {}
    }
   ],
   "source": [
    "cones.show(2)"
   ]
  },
  {
   "cell_type": "code",
   "execution_count": 159,
   "metadata": {},
   "outputs": [
    {
     "output_type": "execute_result",
     "data": {
      "text/plain": "Flavor\nstrawberry\nchocolate\nchocolate\nstrawberry\nchocolate\nbubblegum",
      "text/html": "<table border=\"1\" class=\"dataframe\">\n    <thead>\n        <tr>\n            <th>Flavor</th>\n        </tr>\n    </thead>\n    <tbody>\n        <tr>\n            <td>strawberry</td>\n        </tr>\n        <tr>\n            <td>chocolate </td>\n        </tr>\n        <tr>\n            <td>chocolate </td>\n        </tr>\n        <tr>\n            <td>strawberry</td>\n        </tr>\n        <tr>\n            <td>chocolate </td>\n        </tr>\n        <tr>\n            <td>bubblegum </td>\n        </tr>\n    </tbody>\n</table>"
     },
     "metadata": {},
     "execution_count": 159
    }
   ],
   "source": [
    "cones.select('Flavor')"
   ]
  },
  {
   "cell_type": "code",
   "execution_count": 160,
   "metadata": {},
   "outputs": [
    {
     "output_type": "execute_result",
     "data": {
      "text/plain": "Flavor     | Color       | Price\nstrawberry | pink        | 3.55\nchocolate  | light brown | 4.75\nchocolate  | dark brown  | 5.25\nstrawberry | pink        | 5.25\nchocolate  | dark brown  | 5.25\nbubblegum  | pink        | 4.75",
      "text/html": "<table border=\"1\" class=\"dataframe\">\n    <thead>\n        <tr>\n            <th>Flavor</th> <th>Color</th> <th>Price</th>\n        </tr>\n    </thead>\n    <tbody>\n        <tr>\n            <td>strawberry</td> <td>pink       </td> <td>3.55 </td>\n        </tr>\n        <tr>\n            <td>chocolate </td> <td>light brown</td> <td>4.75 </td>\n        </tr>\n        <tr>\n            <td>chocolate </td> <td>dark brown </td> <td>5.25 </td>\n        </tr>\n        <tr>\n            <td>strawberry</td> <td>pink       </td> <td>5.25 </td>\n        </tr>\n        <tr>\n            <td>chocolate </td> <td>dark brown </td> <td>5.25 </td>\n        </tr>\n        <tr>\n            <td>bubblegum </td> <td>pink       </td> <td>4.75 </td>\n        </tr>\n    </tbody>\n</table>"
     },
     "metadata": {},
     "execution_count": 160
    }
   ],
   "source": [
    "cones"
   ]
  },
  {
   "cell_type": "code",
   "execution_count": 161,
   "metadata": {},
   "outputs": [
    {
     "output_type": "execute_result",
     "data": {
      "text/plain": "Flavor     | Price\nstrawberry | 3.55\nchocolate  | 4.75\nchocolate  | 5.25\nstrawberry | 5.25\nchocolate  | 5.25\nbubblegum  | 4.75",
      "text/html": "<table border=\"1\" class=\"dataframe\">\n    <thead>\n        <tr>\n            <th>Flavor</th> <th>Price</th>\n        </tr>\n    </thead>\n    <tbody>\n        <tr>\n            <td>strawberry</td> <td>3.55 </td>\n        </tr>\n        <tr>\n            <td>chocolate </td> <td>4.75 </td>\n        </tr>\n        <tr>\n            <td>chocolate </td> <td>5.25 </td>\n        </tr>\n        <tr>\n            <td>strawberry</td> <td>5.25 </td>\n        </tr>\n        <tr>\n            <td>chocolate </td> <td>5.25 </td>\n        </tr>\n        <tr>\n            <td>bubblegum </td> <td>4.75 </td>\n        </tr>\n    </tbody>\n</table>"
     },
     "metadata": {},
     "execution_count": 161
    }
   ],
   "source": [
    "cones.select('Flavor', 'Price')"
   ]
  },
  {
   "cell_type": "code",
   "execution_count": 162,
   "metadata": {},
   "outputs": [
    {
     "output_type": "execute_result",
     "data": {
      "text/plain": "Flavor     | Price\nstrawberry | 3.55\nchocolate  | 4.75\nchocolate  | 5.25\nstrawberry | 5.25\nchocolate  | 5.25\nbubblegum  | 4.75",
      "text/html": "<table border=\"1\" class=\"dataframe\">\n    <thead>\n        <tr>\n            <th>Flavor</th> <th>Price</th>\n        </tr>\n    </thead>\n    <tbody>\n        <tr>\n            <td>strawberry</td> <td>3.55 </td>\n        </tr>\n        <tr>\n            <td>chocolate </td> <td>4.75 </td>\n        </tr>\n        <tr>\n            <td>chocolate </td> <td>5.25 </td>\n        </tr>\n        <tr>\n            <td>strawberry</td> <td>5.25 </td>\n        </tr>\n        <tr>\n            <td>chocolate </td> <td>5.25 </td>\n        </tr>\n        <tr>\n            <td>bubblegum </td> <td>4.75 </td>\n        </tr>\n    </tbody>\n</table>"
     },
     "metadata": {},
     "execution_count": 162
    }
   ],
   "source": [
    "cones.drop('Color')"
   ]
  },
  {
   "cell_type": "code",
   "execution_count": 163,
   "metadata": {},
   "outputs": [
    {
     "output_type": "execute_result",
     "data": {
      "text/plain": "Flavor     | Price\nstrawberry | 3.55\nchocolate  | 4.75\nchocolate  | 5.25\nstrawberry | 5.25\nchocolate  | 5.25\nbubblegum  | 4.75",
      "text/html": "<table border=\"1\" class=\"dataframe\">\n    <thead>\n        <tr>\n            <th>Flavor</th> <th>Price</th>\n        </tr>\n    </thead>\n    <tbody>\n        <tr>\n            <td>strawberry</td> <td>3.55 </td>\n        </tr>\n        <tr>\n            <td>chocolate </td> <td>4.75 </td>\n        </tr>\n        <tr>\n            <td>chocolate </td> <td>5.25 </td>\n        </tr>\n        <tr>\n            <td>strawberry</td> <td>5.25 </td>\n        </tr>\n        <tr>\n            <td>chocolate </td> <td>5.25 </td>\n        </tr>\n        <tr>\n            <td>bubblegum </td> <td>4.75 </td>\n        </tr>\n    </tbody>\n</table>"
     },
     "metadata": {},
     "execution_count": 163
    }
   ],
   "source": [
    "no_colors = cones.drop('Color')\n",
    "\n",
    "no_colors"
   ]
  },
  {
   "cell_type": "code",
   "execution_count": 164,
   "metadata": {},
   "outputs": [
    {
     "output_type": "execute_result",
     "data": {
      "text/plain": "Flavor     | Color       | Price\nstrawberry | pink        | 3.55\nchocolate  | light brown | 4.75\nbubblegum  | pink        | 4.75\nchocolate  | dark brown  | 5.25\nstrawberry | pink        | 5.25\nchocolate  | dark brown  | 5.25",
      "text/html": "<table border=\"1\" class=\"dataframe\">\n    <thead>\n        <tr>\n            <th>Flavor</th> <th>Color</th> <th>Price</th>\n        </tr>\n    </thead>\n    <tbody>\n        <tr>\n            <td>strawberry</td> <td>pink       </td> <td>3.55 </td>\n        </tr>\n        <tr>\n            <td>chocolate </td> <td>light brown</td> <td>4.75 </td>\n        </tr>\n        <tr>\n            <td>bubblegum </td> <td>pink       </td> <td>4.75 </td>\n        </tr>\n        <tr>\n            <td>chocolate </td> <td>dark brown </td> <td>5.25 </td>\n        </tr>\n        <tr>\n            <td>strawberry</td> <td>pink       </td> <td>5.25 </td>\n        </tr>\n        <tr>\n            <td>chocolate </td> <td>dark brown </td> <td>5.25 </td>\n        </tr>\n    </tbody>\n</table>"
     },
     "metadata": {},
     "execution_count": 164
    }
   ],
   "source": [
    "cones.sort('Price')"
   ]
  },
  {
   "cell_type": "code",
   "execution_count": 165,
   "metadata": {},
   "outputs": [
    {
     "output_type": "execute_result",
     "data": {
      "text/plain": "Flavor     | Color       | Price\nchocolate  | dark brown  | 5.25\nstrawberry | pink        | 5.25\nchocolate  | dark brown  | 5.25\nbubblegum  | pink        | 4.75\nchocolate  | light brown | 4.75\nstrawberry | pink        | 3.55",
      "text/html": "<table border=\"1\" class=\"dataframe\">\n    <thead>\n        <tr>\n            <th>Flavor</th> <th>Color</th> <th>Price</th>\n        </tr>\n    </thead>\n    <tbody>\n        <tr>\n            <td>chocolate </td> <td>dark brown </td> <td>5.25 </td>\n        </tr>\n        <tr>\n            <td>strawberry</td> <td>pink       </td> <td>5.25 </td>\n        </tr>\n        <tr>\n            <td>chocolate </td> <td>dark brown </td> <td>5.25 </td>\n        </tr>\n        <tr>\n            <td>bubblegum </td> <td>pink       </td> <td>4.75 </td>\n        </tr>\n        <tr>\n            <td>chocolate </td> <td>light brown</td> <td>4.75 </td>\n        </tr>\n        <tr>\n            <td>strawberry</td> <td>pink       </td> <td>3.55 </td>\n        </tr>\n    </tbody>\n</table>"
     },
     "metadata": {},
     "execution_count": 165
    }
   ],
   "source": [
    "cones.sort('Price', descending=True)    "
   ]
  },
  {
   "cell_type": "code",
   "execution_count": 166,
   "metadata": {},
   "outputs": [
    {
     "output_type": "execute_result",
     "data": {
      "text/plain": "Flavor    | Color       | Price\nchocolate | light brown | 4.75\nchocolate | dark brown  | 5.25\nchocolate | dark brown  | 5.25",
      "text/html": "<table border=\"1\" class=\"dataframe\">\n    <thead>\n        <tr>\n            <th>Flavor</th> <th>Color</th> <th>Price</th>\n        </tr>\n    </thead>\n    <tbody>\n        <tr>\n            <td>chocolate</td> <td>light brown</td> <td>4.75 </td>\n        </tr>\n        <tr>\n            <td>chocolate</td> <td>dark brown </td> <td>5.25 </td>\n        </tr>\n        <tr>\n            <td>chocolate</td> <td>dark brown </td> <td>5.25 </td>\n        </tr>\n    </tbody>\n</table>"
     },
     "metadata": {},
     "execution_count": 166
    }
   ],
   "source": [
    "cones.where('Flavor', 'chocolate')"
   ]
  },
  {
   "cell_type": "code",
   "execution_count": 167,
   "metadata": {},
   "outputs": [
    {
     "output_type": "execute_result",
     "data": {
      "text/plain": "Flavor | Color | Price",
      "text/html": "<table border=\"1\" class=\"dataframe\">\n    <thead>\n        <tr>\n            <th>Flavor</th> <th>Color</th> <th>Price</th>\n        </tr>\n    </thead>\n    <tbody>\n    </tbody>\n</table>"
     },
     "metadata": {},
     "execution_count": 167
    }
   ],
   "source": [
    "cones.where('Flavor', 'Chocolate')"
   ]
  },
  {
   "cell_type": "code",
   "execution_count": 168,
   "metadata": {},
   "outputs": [
    {
     "output_type": "execute_result",
     "data": {
      "text/plain": "Player           | Position | Team          | 2015-2016 Salary\nPaul Millsap     | PF       | Atlanta Hawks | 18.6717\nAl Horford       | C        | Atlanta Hawks | 12\nTiago Splitter   | C        | Atlanta Hawks | 9.75625\nJeff Teague      | PG       | Atlanta Hawks | 8\nKyle Korver      | SG       | Atlanta Hawks | 5.74648\nThabo Sefolosha  | SF       | Atlanta Hawks | 4\nMike Scott       | PF       | Atlanta Hawks | 3.33333\nKent Bazemore    | SF       | Atlanta Hawks | 2\nDennis Schroder  | PG       | Atlanta Hawks | 1.7634\nTim Hardaway Jr. | SG       | Atlanta Hawks | 1.30452\n... (407 rows omitted)",
      "text/html": "<table border=\"1\" class=\"dataframe\">\n    <thead>\n        <tr>\n            <th>Player</th> <th>Position</th> <th>Team</th> <th>2015-2016 Salary</th>\n        </tr>\n    </thead>\n    <tbody>\n        <tr>\n            <td>Paul Millsap    </td> <td>PF      </td> <td>Atlanta Hawks</td> <td>18.6717         </td>\n        </tr>\n        <tr>\n            <td>Al Horford      </td> <td>C       </td> <td>Atlanta Hawks</td> <td>12              </td>\n        </tr>\n        <tr>\n            <td>Tiago Splitter  </td> <td>C       </td> <td>Atlanta Hawks</td> <td>9.75625         </td>\n        </tr>\n        <tr>\n            <td>Jeff Teague     </td> <td>PG      </td> <td>Atlanta Hawks</td> <td>8               </td>\n        </tr>\n        <tr>\n            <td>Kyle Korver     </td> <td>SG      </td> <td>Atlanta Hawks</td> <td>5.74648         </td>\n        </tr>\n        <tr>\n            <td>Thabo Sefolosha </td> <td>SF      </td> <td>Atlanta Hawks</td> <td>4               </td>\n        </tr>\n        <tr>\n            <td>Mike Scott      </td> <td>PF      </td> <td>Atlanta Hawks</td> <td>3.33333         </td>\n        </tr>\n        <tr>\n            <td>Kent Bazemore   </td> <td>SF      </td> <td>Atlanta Hawks</td> <td>2               </td>\n        </tr>\n        <tr>\n            <td>Dennis Schroder </td> <td>PG      </td> <td>Atlanta Hawks</td> <td>1.7634          </td>\n        </tr>\n        <tr>\n            <td>Tim Hardaway Jr.</td> <td>SG      </td> <td>Atlanta Hawks</td> <td>1.30452         </td>\n        </tr>\n    </tbody>\n</table>\n<p>... (407 rows omitted)</p>"
     },
     "metadata": {},
     "execution_count": 168
    }
   ],
   "source": [
    "nba"
   ]
  },
  {
   "cell_type": "code",
   "execution_count": 169,
   "metadata": {},
   "outputs": [
    {
     "output_type": "execute_result",
     "data": {
      "text/plain": "Player        | Position | Team                  | 2015-2016 Salary\nStephen Curry | PG       | Golden State Warriors | 11.3708",
      "text/html": "<table border=\"1\" class=\"dataframe\">\n    <thead>\n        <tr>\n            <th>Player</th> <th>Position</th> <th>Team</th> <th>2015-2016 Salary</th>\n        </tr>\n    </thead>\n    <tbody>\n        <tr>\n            <td>Stephen Curry</td> <td>PG      </td> <td>Golden State Warriors</td> <td>11.3708         </td>\n        </tr>\n    </tbody>\n</table>"
     },
     "metadata": {},
     "execution_count": 169
    }
   ],
   "source": [
    "nba.where('Player', 'Stephen Curry')"
   ]
  },
  {
   "cell_type": "code",
   "execution_count": 170,
   "metadata": {},
   "outputs": [
    {
     "output_type": "execute_result",
     "data": {
      "text/plain": "Player            | Position | Team                  | 2015-2016 Salary\nKlay Thompson     | SG       | Golden State Warriors | 15.501\nDraymond Green    | PF       | Golden State Warriors | 14.2609\nAndrew Bogut      | C        | Golden State Warriors | 13.8\nAndre Iguodala    | SF       | Golden State Warriors | 11.7105\nStephen Curry     | PG       | Golden State Warriors | 11.3708\nJason Thompson    | PF       | Golden State Warriors | 7.00847\nShaun Livingston  | PG       | Golden State Warriors | 5.54373\nHarrison Barnes   | SF       | Golden State Warriors | 3.8734\nMarreese Speights | C        | Golden State Warriors | 3.815\nLeandro Barbosa   | SG       | Golden State Warriors | 2.5\n... (4 rows omitted)",
      "text/html": "<table border=\"1\" class=\"dataframe\">\n    <thead>\n        <tr>\n            <th>Player</th> <th>Position</th> <th>Team</th> <th>2015-2016 Salary</th>\n        </tr>\n    </thead>\n    <tbody>\n        <tr>\n            <td>Klay Thompson    </td> <td>SG      </td> <td>Golden State Warriors</td> <td>15.501          </td>\n        </tr>\n        <tr>\n            <td>Draymond Green   </td> <td>PF      </td> <td>Golden State Warriors</td> <td>14.2609         </td>\n        </tr>\n        <tr>\n            <td>Andrew Bogut     </td> <td>C       </td> <td>Golden State Warriors</td> <td>13.8            </td>\n        </tr>\n        <tr>\n            <td>Andre Iguodala   </td> <td>SF      </td> <td>Golden State Warriors</td> <td>11.7105         </td>\n        </tr>\n        <tr>\n            <td>Stephen Curry    </td> <td>PG      </td> <td>Golden State Warriors</td> <td>11.3708         </td>\n        </tr>\n        <tr>\n            <td>Jason Thompson   </td> <td>PF      </td> <td>Golden State Warriors</td> <td>7.00847         </td>\n        </tr>\n        <tr>\n            <td>Shaun Livingston </td> <td>PG      </td> <td>Golden State Warriors</td> <td>5.54373         </td>\n        </tr>\n        <tr>\n            <td>Harrison Barnes  </td> <td>SF      </td> <td>Golden State Warriors</td> <td>3.8734          </td>\n        </tr>\n        <tr>\n            <td>Marreese Speights</td> <td>C       </td> <td>Golden State Warriors</td> <td>3.815           </td>\n        </tr>\n        <tr>\n            <td>Leandro Barbosa  </td> <td>SG      </td> <td>Golden State Warriors</td> <td>2.5             </td>\n        </tr>\n    </tbody>\n</table>\n<p>... (4 rows omitted)</p>"
     },
     "metadata": {},
     "execution_count": 170
    }
   ],
   "source": [
    "warriors = nba.where('Team', 'Golden State Warriors')\n",
    "warriors"
   ]
  },
  {
   "cell_type": "code",
   "execution_count": 171,
   "metadata": {},
   "outputs": [
    {
     "output_type": "display_data",
     "data": {
      "text/plain": "<IPython.core.display.HTML object>",
      "text/html": "<table border=\"1\" class=\"dataframe\">\n    <thead>\n        <tr>\n            <th>Player</th> <th>Position</th> <th>Team</th> <th>2015-2016 Salary</th>\n        </tr>\n    </thead>\n    <tbody>\n        <tr>\n            <td>Klay Thompson    </td> <td>SG      </td> <td>Golden State Warriors</td> <td>15.501          </td>\n        </tr>\n        <tr>\n            <td>Draymond Green   </td> <td>PF      </td> <td>Golden State Warriors</td> <td>14.2609         </td>\n        </tr>\n        <tr>\n            <td>Andrew Bogut     </td> <td>C       </td> <td>Golden State Warriors</td> <td>13.8            </td>\n        </tr>\n        <tr>\n            <td>Andre Iguodala   </td> <td>SF      </td> <td>Golden State Warriors</td> <td>11.7105         </td>\n        </tr>\n        <tr>\n            <td>Stephen Curry    </td> <td>PG      </td> <td>Golden State Warriors</td> <td>11.3708         </td>\n        </tr>\n        <tr>\n            <td>Jason Thompson   </td> <td>PF      </td> <td>Golden State Warriors</td> <td>7.00847         </td>\n        </tr>\n        <tr>\n            <td>Shaun Livingston </td> <td>PG      </td> <td>Golden State Warriors</td> <td>5.54373         </td>\n        </tr>\n        <tr>\n            <td>Harrison Barnes  </td> <td>SF      </td> <td>Golden State Warriors</td> <td>3.8734          </td>\n        </tr>\n        <tr>\n            <td>Marreese Speights</td> <td>C       </td> <td>Golden State Warriors</td> <td>3.815           </td>\n        </tr>\n        <tr>\n            <td>Leandro Barbosa  </td> <td>SG      </td> <td>Golden State Warriors</td> <td>2.5             </td>\n        </tr>\n        <tr>\n            <td>Festus Ezeli     </td> <td>C       </td> <td>Golden State Warriors</td> <td>2.00875         </td>\n        </tr>\n        <tr>\n            <td>Brandon Rush     </td> <td>SF      </td> <td>Golden State Warriors</td> <td>1.27096         </td>\n        </tr>\n        <tr>\n            <td>Kevon Looney     </td> <td>SF      </td> <td>Golden State Warriors</td> <td>1.13196         </td>\n        </tr>\n        <tr>\n            <td>Anderson Varejao </td> <td>PF      </td> <td>Golden State Warriors</td> <td>0.289755        </td>\n        </tr>\n    </tbody>\n</table>"
     },
     "metadata": {}
    }
   ],
   "source": [
    "warriors.show()"
   ]
  },
  {
   "cell_type": "code",
   "execution_count": 172,
   "metadata": {},
   "outputs": [
    {
     "output_type": "error",
     "ename": "ValueError",
     "evalue": "label \"Salary\" not in labels ('Player', 'Position', 'Team', '2015-2016 Salary')",
     "traceback": [
      "\u001b[1;31m---------------------------------------------------------------------------\u001b[0m",
      "\u001b[1;31mValueError\u001b[0m                                Traceback (most recent call last)",
      "\u001b[1;32m<ipython-input-172-1c10ec73633e>\u001b[0m in \u001b[0;36m<module>\u001b[1;34m\u001b[0m\n\u001b[1;32m----> 1\u001b[1;33m \u001b[0mnba\u001b[0m\u001b[1;33m.\u001b[0m\u001b[0msort\u001b[0m\u001b[1;33m(\u001b[0m\u001b[1;34m'Salary'\u001b[0m\u001b[1;33m)\u001b[0m\u001b[1;33m\u001b[0m\u001b[1;33m\u001b[0m\u001b[0m\n\u001b[0m",
      "\u001b[1;32mC:\\Python38\\lib\\site-packages\\datascience\\tables.py\u001b[0m in \u001b[0;36msort\u001b[1;34m(self, column_or_label, descending, distinct)\u001b[0m\n\u001b[0;32m    875\u001b[0m         \u001b[0mBlue\u001b[0m  \u001b[1;33m|\u001b[0m \u001b[0mRectangular\u001b[0m \u001b[1;33m|\u001b[0m \u001b[1;36m12\u001b[0m     \u001b[1;33m|\u001b[0m \u001b[1;36m2\u001b[0m\u001b[1;33m\u001b[0m\u001b[1;33m\u001b[0m\u001b[0m\n\u001b[0;32m    876\u001b[0m         \"\"\"\n\u001b[1;32m--> 877\u001b[1;33m         \u001b[0mcolumn\u001b[0m \u001b[1;33m=\u001b[0m \u001b[0mself\u001b[0m\u001b[1;33m.\u001b[0m\u001b[0m_get_column\u001b[0m\u001b[1;33m(\u001b[0m\u001b[0mcolumn_or_label\u001b[0m\u001b[1;33m)\u001b[0m\u001b[1;33m\u001b[0m\u001b[1;33m\u001b[0m\u001b[0m\n\u001b[0m\u001b[0;32m    878\u001b[0m         \u001b[1;32mif\u001b[0m \u001b[0mdistinct\u001b[0m\u001b[1;33m:\u001b[0m\u001b[1;33m\u001b[0m\u001b[1;33m\u001b[0m\u001b[0m\n\u001b[0;32m    879\u001b[0m             \u001b[0m_\u001b[0m\u001b[1;33m,\u001b[0m \u001b[0mrow_numbers\u001b[0m \u001b[1;33m=\u001b[0m \u001b[0mnp\u001b[0m\u001b[1;33m.\u001b[0m\u001b[0munique\u001b[0m\u001b[1;33m(\u001b[0m\u001b[0mcolumn\u001b[0m\u001b[1;33m,\u001b[0m \u001b[0mreturn_index\u001b[0m\u001b[1;33m=\u001b[0m\u001b[1;32mTrue\u001b[0m\u001b[1;33m)\u001b[0m\u001b[1;33m\u001b[0m\u001b[1;33m\u001b[0m\u001b[0m\n",
      "\u001b[1;32mC:\\Python38\\lib\\site-packages\\datascience\\tables.py\u001b[0m in \u001b[0;36m_get_column\u001b[1;34m(self, column_or_label)\u001b[0m\n\u001b[0;32m   1391\u001b[0m             \u001b[1;32mreturn\u001b[0m \u001b[0mself\u001b[0m\u001b[1;33m[\u001b[0m\u001b[0mc\u001b[0m\u001b[1;33m]\u001b[0m\u001b[1;33m\u001b[0m\u001b[1;33m\u001b[0m\u001b[0m\n\u001b[0;32m   1392\u001b[0m         \u001b[1;32melif\u001b[0m \u001b[0misinstance\u001b[0m\u001b[1;33m(\u001b[0m\u001b[0mc\u001b[0m\u001b[1;33m,\u001b[0m \u001b[0mstr\u001b[0m\u001b[1;33m)\u001b[0m\u001b[1;33m:\u001b[0m\u001b[1;33m\u001b[0m\u001b[1;33m\u001b[0m\u001b[0m\n\u001b[1;32m-> 1393\u001b[1;33m             \u001b[1;32mraise\u001b[0m \u001b[0mValueError\u001b[0m\u001b[1;33m(\u001b[0m\u001b[1;34m'label \"{}\" not in labels {}'\u001b[0m\u001b[1;33m.\u001b[0m\u001b[0mformat\u001b[0m\u001b[1;33m(\u001b[0m\u001b[0mc\u001b[0m\u001b[1;33m,\u001b[0m \u001b[0mself\u001b[0m\u001b[1;33m.\u001b[0m\u001b[0mlabels\u001b[0m\u001b[1;33m)\u001b[0m\u001b[1;33m)\u001b[0m\u001b[1;33m\u001b[0m\u001b[1;33m\u001b[0m\u001b[0m\n\u001b[0m\u001b[0;32m   1394\u001b[0m         \u001b[1;32melse\u001b[0m\u001b[1;33m:\u001b[0m\u001b[1;33m\u001b[0m\u001b[1;33m\u001b[0m\u001b[0m\n\u001b[0;32m   1395\u001b[0m             \u001b[1;32massert\u001b[0m \u001b[0mlen\u001b[0m\u001b[1;33m(\u001b[0m\u001b[0mc\u001b[0m\u001b[1;33m)\u001b[0m \u001b[1;33m==\u001b[0m \u001b[0mself\u001b[0m\u001b[1;33m.\u001b[0m\u001b[0mnum_rows\u001b[0m\u001b[1;33m,\u001b[0m \u001b[1;34m'column length mismatch'\u001b[0m\u001b[1;33m\u001b[0m\u001b[1;33m\u001b[0m\u001b[0m\n",
      "\u001b[1;31mValueError\u001b[0m: label \"Salary\" not in labels ('Player', 'Position', 'Team', '2015-2016 Salary')"
     ]
    }
   ],
   "source": [
    "nba.sort('Salary')"
   ]
  },
  {
   "cell_type": "code",
   "execution_count": 173,
   "metadata": {},
   "outputs": [
    {
     "output_type": "error",
     "ename": "ValueError",
     "evalue": "label \"Salary\" not in labels ('Player', 'Position', 'Team', '2015-2016 Salary')",
     "traceback": [
      "\u001b[1;31m---------------------------------------------------------------------------\u001b[0m",
      "\u001b[1;31mValueError\u001b[0m                                Traceback (most recent call last)",
      "\u001b[1;32m<ipython-input-173-fed71bec7075>\u001b[0m in \u001b[0;36m<module>\u001b[1;34m\u001b[0m\n\u001b[1;32m----> 1\u001b[1;33m \u001b[0mnba\u001b[0m\u001b[1;33m.\u001b[0m\u001b[0msort\u001b[0m\u001b[1;33m(\u001b[0m\u001b[1;34m'Salary'\u001b[0m\u001b[1;33m,\u001b[0m \u001b[0mdescending\u001b[0m\u001b[1;33m=\u001b[0m\u001b[1;32mTrue\u001b[0m\u001b[1;33m)\u001b[0m\u001b[1;33m\u001b[0m\u001b[1;33m\u001b[0m\u001b[0m\n\u001b[0m",
      "\u001b[1;32mC:\\Python38\\lib\\site-packages\\datascience\\tables.py\u001b[0m in \u001b[0;36msort\u001b[1;34m(self, column_or_label, descending, distinct)\u001b[0m\n\u001b[0;32m    875\u001b[0m         \u001b[0mBlue\u001b[0m  \u001b[1;33m|\u001b[0m \u001b[0mRectangular\u001b[0m \u001b[1;33m|\u001b[0m \u001b[1;36m12\u001b[0m     \u001b[1;33m|\u001b[0m \u001b[1;36m2\u001b[0m\u001b[1;33m\u001b[0m\u001b[1;33m\u001b[0m\u001b[0m\n\u001b[0;32m    876\u001b[0m         \"\"\"\n\u001b[1;32m--> 877\u001b[1;33m         \u001b[0mcolumn\u001b[0m \u001b[1;33m=\u001b[0m \u001b[0mself\u001b[0m\u001b[1;33m.\u001b[0m\u001b[0m_get_column\u001b[0m\u001b[1;33m(\u001b[0m\u001b[0mcolumn_or_label\u001b[0m\u001b[1;33m)\u001b[0m\u001b[1;33m\u001b[0m\u001b[1;33m\u001b[0m\u001b[0m\n\u001b[0m\u001b[0;32m    878\u001b[0m         \u001b[1;32mif\u001b[0m \u001b[0mdistinct\u001b[0m\u001b[1;33m:\u001b[0m\u001b[1;33m\u001b[0m\u001b[1;33m\u001b[0m\u001b[0m\n\u001b[0;32m    879\u001b[0m             \u001b[0m_\u001b[0m\u001b[1;33m,\u001b[0m \u001b[0mrow_numbers\u001b[0m \u001b[1;33m=\u001b[0m \u001b[0mnp\u001b[0m\u001b[1;33m.\u001b[0m\u001b[0munique\u001b[0m\u001b[1;33m(\u001b[0m\u001b[0mcolumn\u001b[0m\u001b[1;33m,\u001b[0m \u001b[0mreturn_index\u001b[0m\u001b[1;33m=\u001b[0m\u001b[1;32mTrue\u001b[0m\u001b[1;33m)\u001b[0m\u001b[1;33m\u001b[0m\u001b[1;33m\u001b[0m\u001b[0m\n",
      "\u001b[1;32mC:\\Python38\\lib\\site-packages\\datascience\\tables.py\u001b[0m in \u001b[0;36m_get_column\u001b[1;34m(self, column_or_label)\u001b[0m\n\u001b[0;32m   1391\u001b[0m             \u001b[1;32mreturn\u001b[0m \u001b[0mself\u001b[0m\u001b[1;33m[\u001b[0m\u001b[0mc\u001b[0m\u001b[1;33m]\u001b[0m\u001b[1;33m\u001b[0m\u001b[1;33m\u001b[0m\u001b[0m\n\u001b[0;32m   1392\u001b[0m         \u001b[1;32melif\u001b[0m \u001b[0misinstance\u001b[0m\u001b[1;33m(\u001b[0m\u001b[0mc\u001b[0m\u001b[1;33m,\u001b[0m \u001b[0mstr\u001b[0m\u001b[1;33m)\u001b[0m\u001b[1;33m:\u001b[0m\u001b[1;33m\u001b[0m\u001b[1;33m\u001b[0m\u001b[0m\n\u001b[1;32m-> 1393\u001b[1;33m             \u001b[1;32mraise\u001b[0m \u001b[0mValueError\u001b[0m\u001b[1;33m(\u001b[0m\u001b[1;34m'label \"{}\" not in labels {}'\u001b[0m\u001b[1;33m.\u001b[0m\u001b[0mformat\u001b[0m\u001b[1;33m(\u001b[0m\u001b[0mc\u001b[0m\u001b[1;33m,\u001b[0m \u001b[0mself\u001b[0m\u001b[1;33m.\u001b[0m\u001b[0mlabels\u001b[0m\u001b[1;33m)\u001b[0m\u001b[1;33m)\u001b[0m\u001b[1;33m\u001b[0m\u001b[1;33m\u001b[0m\u001b[0m\n\u001b[0m\u001b[0;32m   1394\u001b[0m         \u001b[1;32melse\u001b[0m\u001b[1;33m:\u001b[0m\u001b[1;33m\u001b[0m\u001b[1;33m\u001b[0m\u001b[0m\n\u001b[0;32m   1395\u001b[0m             \u001b[1;32massert\u001b[0m \u001b[0mlen\u001b[0m\u001b[1;33m(\u001b[0m\u001b[0mc\u001b[0m\u001b[1;33m)\u001b[0m \u001b[1;33m==\u001b[0m \u001b[0mself\u001b[0m\u001b[1;33m.\u001b[0m\u001b[0mnum_rows\u001b[0m\u001b[1;33m,\u001b[0m \u001b[1;34m'column length mismatch'\u001b[0m\u001b[1;33m\u001b[0m\u001b[1;33m\u001b[0m\u001b[0m\n",
      "\u001b[1;31mValueError\u001b[0m: label \"Salary\" not in labels ('Player', 'Position', 'Team', '2015-2016 Salary')"
     ]
    }
   ],
   "source": [
    "nba.sort('Salary', descending=True)"
   ]
  }
 ]
}