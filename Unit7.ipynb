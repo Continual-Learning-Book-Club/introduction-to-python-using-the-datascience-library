{
 "metadata": {
  "language_info": {
   "codemirror_mode": {
    "name": "ipython",
    "version": 3
   },
   "file_extension": ".py",
   "mimetype": "text/x-python",
   "name": "python",
   "nbconvert_exporter": "python",
   "pygments_lexer": "ipython3",
   "version": "3.8.2-final"
  },
  "orig_nbformat": 2,
  "kernelspec": {
   "name": "python38264bit7cde23a126bb4267837e6489d4fe2d73",
   "display_name": "Python 3.8.2 64-bit"
  }
 },
 "nbformat": 4,
 "nbformat_minor": 2,
 "cells": [
  {
   "cell_type": "markdown",
   "metadata": {},
   "source": [
    "# Unit 7"
   ]
  },
  {
   "cell_type": "code",
   "execution_count": 174,
   "metadata": {},
   "outputs": [],
   "source": [
    "from datascience import *\n",
    "import os \n",
    "\n",
    "path_data = os.getcwd()\n",
    "nba_data = path_data + \"\\\\data\\\\nba_salaries.csv\"\n",
    "nba = Table.read_table(nba_data)\n",
    "\n",
    "cone_data = path_data + \"\\\\data\\\\cones.csv\"\n",
    "cones = Table.read_table(cone_data)\n"
   ]
  },
  {
   "cell_type": "code",
   "execution_count": 175,
   "metadata": {},
   "outputs": [
    {
     "output_type": "execute_result",
     "data": {
      "text/plain": "Flavor     | Color       | Price\nstrawberry | pink        | 3.55\nchocolate  | light brown | 4.75\nchocolate  | dark brown  | 5.25\nstrawberry | pink        | 5.25\nchocolate  | dark brown  | 5.25\nbubblegum  | pink        | 4.75",
      "text/html": "<table border=\"1\" class=\"dataframe\">\n    <thead>\n        <tr>\n            <th>Flavor</th> <th>Color</th> <th>Price</th>\n        </tr>\n    </thead>\n    <tbody>\n        <tr>\n            <td>strawberry</td> <td>pink       </td> <td>3.55 </td>\n        </tr>\n        <tr>\n            <td>chocolate </td> <td>light brown</td> <td>4.75 </td>\n        </tr>\n        <tr>\n            <td>chocolate </td> <td>dark brown </td> <td>5.25 </td>\n        </tr>\n        <tr>\n            <td>strawberry</td> <td>pink       </td> <td>5.25 </td>\n        </tr>\n        <tr>\n            <td>chocolate </td> <td>dark brown </td> <td>5.25 </td>\n        </tr>\n        <tr>\n            <td>bubblegum </td> <td>pink       </td> <td>4.75 </td>\n        </tr>\n    </tbody>\n</table>"
     },
     "metadata": {},
     "execution_count": 175
    }
   ],
   "source": [
    "cones"
   ]
  },
  {
   "cell_type": "code",
   "execution_count": 176,
   "metadata": {},
   "outputs": [
    {
     "output_type": "display_data",
     "data": {
      "text/plain": "<IPython.core.display.HTML object>",
      "text/html": "<table border=\"1\" class=\"dataframe\">\n    <thead>\n        <tr>\n            <th>Flavor</th> <th>Color</th> <th>Price</th>\n        </tr>\n    </thead>\n    <tbody>\n        <tr>\n            <td>strawberry</td> <td>pink       </td> <td>3.55 </td>\n        </tr>\n        <tr>\n            <td>chocolate </td> <td>light brown</td> <td>4.75 </td>\n        </tr>\n    </tbody>\n</table>\n<p>... (4 rows omitted)</p>"
     },
     "metadata": {}
    }
   ],
   "source": [
    "cones.show(2)"
   ]
  },
  {
   "cell_type": "code",
   "execution_count": 177,
   "metadata": {},
   "outputs": [
    {
     "output_type": "execute_result",
     "data": {
      "text/plain": "Flavor\nstrawberry\nchocolate\nchocolate\nstrawberry\nchocolate\nbubblegum",
      "text/html": "<table border=\"1\" class=\"dataframe\">\n    <thead>\n        <tr>\n            <th>Flavor</th>\n        </tr>\n    </thead>\n    <tbody>\n        <tr>\n            <td>strawberry</td>\n        </tr>\n        <tr>\n            <td>chocolate </td>\n        </tr>\n        <tr>\n            <td>chocolate </td>\n        </tr>\n        <tr>\n            <td>strawberry</td>\n        </tr>\n        <tr>\n            <td>chocolate </td>\n        </tr>\n        <tr>\n            <td>bubblegum </td>\n        </tr>\n    </tbody>\n</table>"
     },
     "metadata": {},
     "execution_count": 177
    }
   ],
   "source": [
    "cones.select('Flavor')"
   ]
  },
  {
   "cell_type": "code",
   "execution_count": 178,
   "metadata": {},
   "outputs": [
    {
     "output_type": "execute_result",
     "data": {
      "text/plain": "Flavor     | Color       | Price\nstrawberry | pink        | 3.55\nchocolate  | light brown | 4.75\nchocolate  | dark brown  | 5.25\nstrawberry | pink        | 5.25\nchocolate  | dark brown  | 5.25\nbubblegum  | pink        | 4.75",
      "text/html": "<table border=\"1\" class=\"dataframe\">\n    <thead>\n        <tr>\n            <th>Flavor</th> <th>Color</th> <th>Price</th>\n        </tr>\n    </thead>\n    <tbody>\n        <tr>\n            <td>strawberry</td> <td>pink       </td> <td>3.55 </td>\n        </tr>\n        <tr>\n            <td>chocolate </td> <td>light brown</td> <td>4.75 </td>\n        </tr>\n        <tr>\n            <td>chocolate </td> <td>dark brown </td> <td>5.25 </td>\n        </tr>\n        <tr>\n            <td>strawberry</td> <td>pink       </td> <td>5.25 </td>\n        </tr>\n        <tr>\n            <td>chocolate </td> <td>dark brown </td> <td>5.25 </td>\n        </tr>\n        <tr>\n            <td>bubblegum </td> <td>pink       </td> <td>4.75 </td>\n        </tr>\n    </tbody>\n</table>"
     },
     "metadata": {},
     "execution_count": 178
    }
   ],
   "source": [
    "cones"
   ]
  },
  {
   "cell_type": "code",
   "execution_count": 179,
   "metadata": {},
   "outputs": [
    {
     "output_type": "execute_result",
     "data": {
      "text/plain": "Flavor     | Price\nstrawberry | 3.55\nchocolate  | 4.75\nchocolate  | 5.25\nstrawberry | 5.25\nchocolate  | 5.25\nbubblegum  | 4.75",
      "text/html": "<table border=\"1\" class=\"dataframe\">\n    <thead>\n        <tr>\n            <th>Flavor</th> <th>Price</th>\n        </tr>\n    </thead>\n    <tbody>\n        <tr>\n            <td>strawberry</td> <td>3.55 </td>\n        </tr>\n        <tr>\n            <td>chocolate </td> <td>4.75 </td>\n        </tr>\n        <tr>\n            <td>chocolate </td> <td>5.25 </td>\n        </tr>\n        <tr>\n            <td>strawberry</td> <td>5.25 </td>\n        </tr>\n        <tr>\n            <td>chocolate </td> <td>5.25 </td>\n        </tr>\n        <tr>\n            <td>bubblegum </td> <td>4.75 </td>\n        </tr>\n    </tbody>\n</table>"
     },
     "metadata": {},
     "execution_count": 179
    }
   ],
   "source": [
    "cones.select('Flavor', 'Price')"
   ]
  },
  {
   "cell_type": "code",
   "execution_count": 180,
   "metadata": {},
   "outputs": [
    {
     "output_type": "execute_result",
     "data": {
      "text/plain": "Flavor     | Price\nstrawberry | 3.55\nchocolate  | 4.75\nchocolate  | 5.25\nstrawberry | 5.25\nchocolate  | 5.25\nbubblegum  | 4.75",
      "text/html": "<table border=\"1\" class=\"dataframe\">\n    <thead>\n        <tr>\n            <th>Flavor</th> <th>Price</th>\n        </tr>\n    </thead>\n    <tbody>\n        <tr>\n            <td>strawberry</td> <td>3.55 </td>\n        </tr>\n        <tr>\n            <td>chocolate </td> <td>4.75 </td>\n        </tr>\n        <tr>\n            <td>chocolate </td> <td>5.25 </td>\n        </tr>\n        <tr>\n            <td>strawberry</td> <td>5.25 </td>\n        </tr>\n        <tr>\n            <td>chocolate </td> <td>5.25 </td>\n        </tr>\n        <tr>\n            <td>bubblegum </td> <td>4.75 </td>\n        </tr>\n    </tbody>\n</table>"
     },
     "metadata": {},
     "execution_count": 180
    }
   ],
   "source": [
    "cones.drop('Color')"
   ]
  },
  {
   "cell_type": "code",
   "execution_count": 181,
   "metadata": {},
   "outputs": [
    {
     "output_type": "execute_result",
     "data": {
      "text/plain": "Flavor     | Price\nstrawberry | 3.55\nchocolate  | 4.75\nchocolate  | 5.25\nstrawberry | 5.25\nchocolate  | 5.25\nbubblegum  | 4.75",
      "text/html": "<table border=\"1\" class=\"dataframe\">\n    <thead>\n        <tr>\n            <th>Flavor</th> <th>Price</th>\n        </tr>\n    </thead>\n    <tbody>\n        <tr>\n            <td>strawberry</td> <td>3.55 </td>\n        </tr>\n        <tr>\n            <td>chocolate </td> <td>4.75 </td>\n        </tr>\n        <tr>\n            <td>chocolate </td> <td>5.25 </td>\n        </tr>\n        <tr>\n            <td>strawberry</td> <td>5.25 </td>\n        </tr>\n        <tr>\n            <td>chocolate </td> <td>5.25 </td>\n        </tr>\n        <tr>\n            <td>bubblegum </td> <td>4.75 </td>\n        </tr>\n    </tbody>\n</table>"
     },
     "metadata": {},
     "execution_count": 181
    }
   ],
   "source": [
    "no_colors = cones.drop('Color')\n",
    "\n",
    "no_colors"
   ]
  },
  {
   "cell_type": "code",
   "execution_count": 182,
   "metadata": {},
   "outputs": [
    {
     "output_type": "execute_result",
     "data": {
      "text/plain": "Flavor     | Color       | Price\nstrawberry | pink        | 3.55\nchocolate  | light brown | 4.75\nbubblegum  | pink        | 4.75\nchocolate  | dark brown  | 5.25\nstrawberry | pink        | 5.25\nchocolate  | dark brown  | 5.25",
      "text/html": "<table border=\"1\" class=\"dataframe\">\n    <thead>\n        <tr>\n            <th>Flavor</th> <th>Color</th> <th>Price</th>\n        </tr>\n    </thead>\n    <tbody>\n        <tr>\n            <td>strawberry</td> <td>pink       </td> <td>3.55 </td>\n        </tr>\n        <tr>\n            <td>chocolate </td> <td>light brown</td> <td>4.75 </td>\n        </tr>\n        <tr>\n            <td>bubblegum </td> <td>pink       </td> <td>4.75 </td>\n        </tr>\n        <tr>\n            <td>chocolate </td> <td>dark brown </td> <td>5.25 </td>\n        </tr>\n        <tr>\n            <td>strawberry</td> <td>pink       </td> <td>5.25 </td>\n        </tr>\n        <tr>\n            <td>chocolate </td> <td>dark brown </td> <td>5.25 </td>\n        </tr>\n    </tbody>\n</table>"
     },
     "metadata": {},
     "execution_count": 182
    }
   ],
   "source": [
    "cones.sort('Price')"
   ]
  },
  {
   "cell_type": "code",
   "execution_count": 183,
   "metadata": {},
   "outputs": [
    {
     "output_type": "execute_result",
     "data": {
      "text/plain": "Flavor     | Color       | Price\nchocolate  | dark brown  | 5.25\nstrawberry | pink        | 5.25\nchocolate  | dark brown  | 5.25\nbubblegum  | pink        | 4.75\nchocolate  | light brown | 4.75\nstrawberry | pink        | 3.55",
      "text/html": "<table border=\"1\" class=\"dataframe\">\n    <thead>\n        <tr>\n            <th>Flavor</th> <th>Color</th> <th>Price</th>\n        </tr>\n    </thead>\n    <tbody>\n        <tr>\n            <td>chocolate </td> <td>dark brown </td> <td>5.25 </td>\n        </tr>\n        <tr>\n            <td>strawberry</td> <td>pink       </td> <td>5.25 </td>\n        </tr>\n        <tr>\n            <td>chocolate </td> <td>dark brown </td> <td>5.25 </td>\n        </tr>\n        <tr>\n            <td>bubblegum </td> <td>pink       </td> <td>4.75 </td>\n        </tr>\n        <tr>\n            <td>chocolate </td> <td>light brown</td> <td>4.75 </td>\n        </tr>\n        <tr>\n            <td>strawberry</td> <td>pink       </td> <td>3.55 </td>\n        </tr>\n    </tbody>\n</table>"
     },
     "metadata": {},
     "execution_count": 183
    }
   ],
   "source": [
    "cones.sort('Price', descending=True)    "
   ]
  },
  {
   "cell_type": "code",
   "execution_count": 184,
   "metadata": {},
   "outputs": [
    {
     "output_type": "execute_result",
     "data": {
      "text/plain": "Flavor    | Color       | Price\nchocolate | light brown | 4.75\nchocolate | dark brown  | 5.25\nchocolate | dark brown  | 5.25",
      "text/html": "<table border=\"1\" class=\"dataframe\">\n    <thead>\n        <tr>\n            <th>Flavor</th> <th>Color</th> <th>Price</th>\n        </tr>\n    </thead>\n    <tbody>\n        <tr>\n            <td>chocolate</td> <td>light brown</td> <td>4.75 </td>\n        </tr>\n        <tr>\n            <td>chocolate</td> <td>dark brown </td> <td>5.25 </td>\n        </tr>\n        <tr>\n            <td>chocolate</td> <td>dark brown </td> <td>5.25 </td>\n        </tr>\n    </tbody>\n</table>"
     },
     "metadata": {},
     "execution_count": 184
    }
   ],
   "source": [
    "cones.where('Flavor', 'chocolate')"
   ]
  },
  {
   "cell_type": "code",
   "execution_count": 185,
   "metadata": {},
   "outputs": [
    {
     "output_type": "execute_result",
     "data": {
      "text/plain": "Flavor | Color | Price",
      "text/html": "<table border=\"1\" class=\"dataframe\">\n    <thead>\n        <tr>\n            <th>Flavor</th> <th>Color</th> <th>Price</th>\n        </tr>\n    </thead>\n    <tbody>\n    </tbody>\n</table>"
     },
     "metadata": {},
     "execution_count": 185
    }
   ],
   "source": [
    "cones.where('Flavor', 'Chocolate')"
   ]
  },
  {
   "cell_type": "code",
   "execution_count": 186,
   "metadata": {},
   "outputs": [
    {
     "output_type": "execute_result",
     "data": {
      "text/plain": "Player           | Position | Team          | Salary\nPaul Millsap     | PF       | Atlanta Hawks | 18.6717\nAl Horford       | C        | Atlanta Hawks | 12\nTiago Splitter   | C        | Atlanta Hawks | 9.75625\nJeff Teague      | PG       | Atlanta Hawks | 8\nKyle Korver      | SG       | Atlanta Hawks | 5.74648\nThabo Sefolosha  | SF       | Atlanta Hawks | 4\nMike Scott       | PF       | Atlanta Hawks | 3.33333\nKent Bazemore    | SF       | Atlanta Hawks | 2\nDennis Schroder  | PG       | Atlanta Hawks | 1.7634\nTim Hardaway Jr. | SG       | Atlanta Hawks | 1.30452\n... (407 rows omitted)",
      "text/html": "<table border=\"1\" class=\"dataframe\">\n    <thead>\n        <tr>\n            <th>Player</th> <th>Position</th> <th>Team</th> <th>Salary</th>\n        </tr>\n    </thead>\n    <tbody>\n        <tr>\n            <td>Paul Millsap    </td> <td>PF      </td> <td>Atlanta Hawks</td> <td>18.6717</td>\n        </tr>\n        <tr>\n            <td>Al Horford      </td> <td>C       </td> <td>Atlanta Hawks</td> <td>12     </td>\n        </tr>\n        <tr>\n            <td>Tiago Splitter  </td> <td>C       </td> <td>Atlanta Hawks</td> <td>9.75625</td>\n        </tr>\n        <tr>\n            <td>Jeff Teague     </td> <td>PG      </td> <td>Atlanta Hawks</td> <td>8      </td>\n        </tr>\n        <tr>\n            <td>Kyle Korver     </td> <td>SG      </td> <td>Atlanta Hawks</td> <td>5.74648</td>\n        </tr>\n        <tr>\n            <td>Thabo Sefolosha </td> <td>SF      </td> <td>Atlanta Hawks</td> <td>4      </td>\n        </tr>\n        <tr>\n            <td>Mike Scott      </td> <td>PF      </td> <td>Atlanta Hawks</td> <td>3.33333</td>\n        </tr>\n        <tr>\n            <td>Kent Bazemore   </td> <td>SF      </td> <td>Atlanta Hawks</td> <td>2      </td>\n        </tr>\n        <tr>\n            <td>Dennis Schroder </td> <td>PG      </td> <td>Atlanta Hawks</td> <td>1.7634 </td>\n        </tr>\n        <tr>\n            <td>Tim Hardaway Jr.</td> <td>SG      </td> <td>Atlanta Hawks</td> <td>1.30452</td>\n        </tr>\n    </tbody>\n</table>\n<p>... (407 rows omitted)</p>"
     },
     "metadata": {},
     "execution_count": 186
    }
   ],
   "source": [
    "nba"
   ]
  },
  {
   "cell_type": "code",
   "execution_count": 187,
   "metadata": {},
   "outputs": [
    {
     "output_type": "execute_result",
     "data": {
      "text/plain": "Player        | Position | Team                  | Salary\nStephen Curry | PG       | Golden State Warriors | 11.3708",
      "text/html": "<table border=\"1\" class=\"dataframe\">\n    <thead>\n        <tr>\n            <th>Player</th> <th>Position</th> <th>Team</th> <th>Salary</th>\n        </tr>\n    </thead>\n    <tbody>\n        <tr>\n            <td>Stephen Curry</td> <td>PG      </td> <td>Golden State Warriors</td> <td>11.3708</td>\n        </tr>\n    </tbody>\n</table>"
     },
     "metadata": {},
     "execution_count": 187
    }
   ],
   "source": [
    "nba.where('Player', 'Stephen Curry')"
   ]
  },
  {
   "cell_type": "code",
   "execution_count": 188,
   "metadata": {},
   "outputs": [
    {
     "output_type": "execute_result",
     "data": {
      "text/plain": "Player            | Position | Team                  | Salary\nKlay Thompson     | SG       | Golden State Warriors | 15.501\nDraymond Green    | PF       | Golden State Warriors | 14.2609\nAndrew Bogut      | C        | Golden State Warriors | 13.8\nAndre Iguodala    | SF       | Golden State Warriors | 11.7105\nStephen Curry     | PG       | Golden State Warriors | 11.3708\nJason Thompson    | PF       | Golden State Warriors | 7.00847\nShaun Livingston  | PG       | Golden State Warriors | 5.54373\nHarrison Barnes   | SF       | Golden State Warriors | 3.8734\nMarreese Speights | C        | Golden State Warriors | 3.815\nLeandro Barbosa   | SG       | Golden State Warriors | 2.5\n... (4 rows omitted)",
      "text/html": "<table border=\"1\" class=\"dataframe\">\n    <thead>\n        <tr>\n            <th>Player</th> <th>Position</th> <th>Team</th> <th>Salary</th>\n        </tr>\n    </thead>\n    <tbody>\n        <tr>\n            <td>Klay Thompson    </td> <td>SG      </td> <td>Golden State Warriors</td> <td>15.501 </td>\n        </tr>\n        <tr>\n            <td>Draymond Green   </td> <td>PF      </td> <td>Golden State Warriors</td> <td>14.2609</td>\n        </tr>\n        <tr>\n            <td>Andrew Bogut     </td> <td>C       </td> <td>Golden State Warriors</td> <td>13.8   </td>\n        </tr>\n        <tr>\n            <td>Andre Iguodala   </td> <td>SF      </td> <td>Golden State Warriors</td> <td>11.7105</td>\n        </tr>\n        <tr>\n            <td>Stephen Curry    </td> <td>PG      </td> <td>Golden State Warriors</td> <td>11.3708</td>\n        </tr>\n        <tr>\n            <td>Jason Thompson   </td> <td>PF      </td> <td>Golden State Warriors</td> <td>7.00847</td>\n        </tr>\n        <tr>\n            <td>Shaun Livingston </td> <td>PG      </td> <td>Golden State Warriors</td> <td>5.54373</td>\n        </tr>\n        <tr>\n            <td>Harrison Barnes  </td> <td>SF      </td> <td>Golden State Warriors</td> <td>3.8734 </td>\n        </tr>\n        <tr>\n            <td>Marreese Speights</td> <td>C       </td> <td>Golden State Warriors</td> <td>3.815  </td>\n        </tr>\n        <tr>\n            <td>Leandro Barbosa  </td> <td>SG      </td> <td>Golden State Warriors</td> <td>2.5    </td>\n        </tr>\n    </tbody>\n</table>\n<p>... (4 rows omitted)</p>"
     },
     "metadata": {},
     "execution_count": 188
    }
   ],
   "source": [
    "warriors = nba.where('Team', 'Golden State Warriors')\n",
    "warriors"
   ]
  },
  {
   "cell_type": "code",
   "execution_count": 189,
   "metadata": {},
   "outputs": [
    {
     "output_type": "display_data",
     "data": {
      "text/plain": "<IPython.core.display.HTML object>",
      "text/html": "<table border=\"1\" class=\"dataframe\">\n    <thead>\n        <tr>\n            <th>Player</th> <th>Position</th> <th>Team</th> <th>Salary</th>\n        </tr>\n    </thead>\n    <tbody>\n        <tr>\n            <td>Klay Thompson    </td> <td>SG      </td> <td>Golden State Warriors</td> <td>15.501  </td>\n        </tr>\n        <tr>\n            <td>Draymond Green   </td> <td>PF      </td> <td>Golden State Warriors</td> <td>14.2609 </td>\n        </tr>\n        <tr>\n            <td>Andrew Bogut     </td> <td>C       </td> <td>Golden State Warriors</td> <td>13.8    </td>\n        </tr>\n        <tr>\n            <td>Andre Iguodala   </td> <td>SF      </td> <td>Golden State Warriors</td> <td>11.7105 </td>\n        </tr>\n        <tr>\n            <td>Stephen Curry    </td> <td>PG      </td> <td>Golden State Warriors</td> <td>11.3708 </td>\n        </tr>\n        <tr>\n            <td>Jason Thompson   </td> <td>PF      </td> <td>Golden State Warriors</td> <td>7.00847 </td>\n        </tr>\n        <tr>\n            <td>Shaun Livingston </td> <td>PG      </td> <td>Golden State Warriors</td> <td>5.54373 </td>\n        </tr>\n        <tr>\n            <td>Harrison Barnes  </td> <td>SF      </td> <td>Golden State Warriors</td> <td>3.8734  </td>\n        </tr>\n        <tr>\n            <td>Marreese Speights</td> <td>C       </td> <td>Golden State Warriors</td> <td>3.815   </td>\n        </tr>\n        <tr>\n            <td>Leandro Barbosa  </td> <td>SG      </td> <td>Golden State Warriors</td> <td>2.5     </td>\n        </tr>\n        <tr>\n            <td>Festus Ezeli     </td> <td>C       </td> <td>Golden State Warriors</td> <td>2.00875 </td>\n        </tr>\n        <tr>\n            <td>Brandon Rush     </td> <td>SF      </td> <td>Golden State Warriors</td> <td>1.27096 </td>\n        </tr>\n        <tr>\n            <td>Kevon Looney     </td> <td>SF      </td> <td>Golden State Warriors</td> <td>1.13196 </td>\n        </tr>\n        <tr>\n            <td>Anderson Varejao </td> <td>PF      </td> <td>Golden State Warriors</td> <td>0.289755</td>\n        </tr>\n    </tbody>\n</table>"
     },
     "metadata": {}
    }
   ],
   "source": [
    "warriors.show()"
   ]
  },
  {
   "cell_type": "code",
   "execution_count": 190,
   "metadata": {},
   "outputs": [
    {
     "output_type": "execute_result",
     "data": {
      "text/plain": "Player                 | Position | Team                 | Salary\nThanasis Antetokounmpo | SF       | New York Knicks      | 0.030888\nJordan McRae           | SG       | Phoenix Suns         | 0.049709\nCory Jefferson         | PF       | Phoenix Suns         | 0.049709\nElliot Williams        | SG       | Memphis Grizzlies    | 0.055722\nOrlando Johnson        | SG       | Phoenix Suns         | 0.055722\nPhil Pressey           | PG       | Phoenix Suns         | 0.055722\nKeith Appling          | PG       | Orlando Magic        | 0.061776\nSean Kilpatrick        | SG       | Denver Nuggets       | 0.099418\nErick Green            | PG       | Utah Jazz            | 0.099418\nJeff Ayres             | PF       | Los Angeles Clippers | 0.111444\n... (407 rows omitted)",
      "text/html": "<table border=\"1\" class=\"dataframe\">\n    <thead>\n        <tr>\n            <th>Player</th> <th>Position</th> <th>Team</th> <th>Salary</th>\n        </tr>\n    </thead>\n    <tbody>\n        <tr>\n            <td>Thanasis Antetokounmpo</td> <td>SF      </td> <td>New York Knicks     </td> <td>0.030888</td>\n        </tr>\n        <tr>\n            <td>Jordan McRae          </td> <td>SG      </td> <td>Phoenix Suns        </td> <td>0.049709</td>\n        </tr>\n        <tr>\n            <td>Cory Jefferson        </td> <td>PF      </td> <td>Phoenix Suns        </td> <td>0.049709</td>\n        </tr>\n        <tr>\n            <td>Elliot Williams       </td> <td>SG      </td> <td>Memphis Grizzlies   </td> <td>0.055722</td>\n        </tr>\n        <tr>\n            <td>Orlando Johnson       </td> <td>SG      </td> <td>Phoenix Suns        </td> <td>0.055722</td>\n        </tr>\n        <tr>\n            <td>Phil Pressey          </td> <td>PG      </td> <td>Phoenix Suns        </td> <td>0.055722</td>\n        </tr>\n        <tr>\n            <td>Keith Appling         </td> <td>PG      </td> <td>Orlando Magic       </td> <td>0.061776</td>\n        </tr>\n        <tr>\n            <td>Sean Kilpatrick       </td> <td>SG      </td> <td>Denver Nuggets      </td> <td>0.099418</td>\n        </tr>\n        <tr>\n            <td>Erick Green           </td> <td>PG      </td> <td>Utah Jazz           </td> <td>0.099418</td>\n        </tr>\n        <tr>\n            <td>Jeff Ayres            </td> <td>PF      </td> <td>Los Angeles Clippers</td> <td>0.111444</td>\n        </tr>\n    </tbody>\n</table>\n<p>... (407 rows omitted)</p>"
     },
     "metadata": {},
     "execution_count": 190
    }
   ],
   "source": [
    "nba.sort('Salary')"
   ]
  },
  {
   "cell_type": "code",
   "execution_count": 191,
   "metadata": {},
   "outputs": [
    {
     "output_type": "execute_result",
     "data": {
      "text/plain": "Player          | Position | Team                  | Salary\nKobe Bryant     | SF       | Los Angeles Lakers    | 25\nJoe Johnson     | SF       | Brooklyn Nets         | 24.8949\nLeBron James    | SF       | Cleveland Cavaliers   | 22.9705\nCarmelo Anthony | SF       | New York Knicks       | 22.875\nDwight Howard   | C        | Houston Rockets       | 22.3594\nChris Bosh      | PF       | Miami Heat            | 22.1927\nChris Paul      | PG       | Los Angeles Clippers  | 21.4687\nKevin Durant    | SF       | Oklahoma City Thunder | 20.1586\nDerrick Rose    | PG       | Chicago Bulls         | 20.0931\nDwyane Wade     | SG       | Miami Heat            | 20\n... (407 rows omitted)",
      "text/html": "<table border=\"1\" class=\"dataframe\">\n    <thead>\n        <tr>\n            <th>Player</th> <th>Position</th> <th>Team</th> <th>Salary</th>\n        </tr>\n    </thead>\n    <tbody>\n        <tr>\n            <td>Kobe Bryant    </td> <td>SF      </td> <td>Los Angeles Lakers   </td> <td>25     </td>\n        </tr>\n        <tr>\n            <td>Joe Johnson    </td> <td>SF      </td> <td>Brooklyn Nets        </td> <td>24.8949</td>\n        </tr>\n        <tr>\n            <td>LeBron James   </td> <td>SF      </td> <td>Cleveland Cavaliers  </td> <td>22.9705</td>\n        </tr>\n        <tr>\n            <td>Carmelo Anthony</td> <td>SF      </td> <td>New York Knicks      </td> <td>22.875 </td>\n        </tr>\n        <tr>\n            <td>Dwight Howard  </td> <td>C       </td> <td>Houston Rockets      </td> <td>22.3594</td>\n        </tr>\n        <tr>\n            <td>Chris Bosh     </td> <td>PF      </td> <td>Miami Heat           </td> <td>22.1927</td>\n        </tr>\n        <tr>\n            <td>Chris Paul     </td> <td>PG      </td> <td>Los Angeles Clippers </td> <td>21.4687</td>\n        </tr>\n        <tr>\n            <td>Kevin Durant   </td> <td>SF      </td> <td>Oklahoma City Thunder</td> <td>20.1586</td>\n        </tr>\n        <tr>\n            <td>Derrick Rose   </td> <td>PG      </td> <td>Chicago Bulls        </td> <td>20.0931</td>\n        </tr>\n        <tr>\n            <td>Dwyane Wade    </td> <td>SG      </td> <td>Miami Heat           </td> <td>20     </td>\n        </tr>\n    </tbody>\n</table>\n<p>... (407 rows omitted)</p>"
     },
     "metadata": {},
     "execution_count": 191
    }
   ],
   "source": [
    "nba.sort('Salary', descending=True)"
   ]
  }
 ]
}